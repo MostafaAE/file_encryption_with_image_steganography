{
 "cells": [
  {
   "cell_type": "code",
   "execution_count": 103,
   "id": "2df5de4f-a59e-430d-a516-5a2e0143af7f",
   "metadata": {},
   "outputs": [],
   "source": []
  },
  {
   "cell_type": "code",
   "execution_count": 2,
   "id": "cab977fc-4b0c-4084-817f-401ce64de963",
   "metadata": {},
   "outputs": [],
   "source": [
    "\n",
    "from tkinter import *\n",
    "\n",
    "def upload_file():\n",
    "    filename = fd.askopenfilename()\n",
    "    \n",
    "\n",
    "def AES_decrypt_input():\n",
    "    win1.destroy()\n",
    "    global win2\n",
    "    win2 =Tk()\n",
    "    win2.geometry('600x400')\n",
    "    L2 =Label (win2, text='AES Decrypt Input',font=(60))\n",
    "    L2.pack(pady=50)\n",
    "    L3 =Label (win2, text='Encrypted image path',font=(60)).place(x=20,y=130)\n",
    "    txt1 = Entry(win2,width=60).place(x=200,y=130)\n",
    "    \n",
    "    L4 =Label (win2, text='Restored file path',font=(60)).place(x=20,y=180)\n",
    "    txt2 = Entry(win2,width=60,command = upload_file ).place(x=200,y=230)\n",
    "    \n",
    "    L5 =Label (win2, text='Key',font=(60)).place(x=20,y=230)\n",
    "    txt3 = Entry(win2,width=60).place(x=200,y=230)\n",
    "\n",
    "    \n",
    "def AES_decrypt_ouput():\n",
    "    win2.destroy()\n",
    "    global win3\n",
    "    win3 =Tk()\n",
    "    win3.geometry('600x400')\n",
    "    L2 =Label (win3, text='AES Decrypt Output',font=(60))\n",
    "    \n",
    "    \n",
    "def en_de():\n",
    "    global win1\n",
    "    win1 =Tk()\n",
    "    win1.geometry('600x400')\n",
    "    L1 =Label (win1, text='AES  or  RSA',font=(60))\n",
    "    L1.pack(pady=100)   \n",
    "    B1 = Button (win1, text='Encrypt', width=15, height=2, font=10, bg=\"PowderBlue\").place(x=100,y=215)\n",
    "    B2 = Button (win1, text='Decrypt', width=15, height=2, font=10, bg=\"PowderBlue\",command=AES_decrypt_input).place(x=350,y=215)\n",
    "    win1.mainloop()\n",
    "\n",
    "en_de()"
   ]
  },
  {
   "cell_type": "code",
   "execution_count": null,
   "id": "e44e369e-510f-4145-8446-0170b4fea69a",
   "metadata": {},
   "outputs": [],
   "source": []
  }
 ],
 "metadata": {
  "kernelspec": {
   "display_name": "Python 3",
   "language": "python",
   "name": "python3"
  },
  "language_info": {
   "codemirror_mode": {
    "name": "ipython",
    "version": 3
   },
   "file_extension": ".py",
   "mimetype": "text/x-python",
   "name": "python",
   "nbconvert_exporter": "python",
   "pygments_lexer": "ipython3",
   "version": "3.8.8"
  }
 },
 "nbformat": 4,
 "nbformat_minor": 5
}
